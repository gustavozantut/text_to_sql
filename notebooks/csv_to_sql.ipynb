{
 "cells": [
  {
   "cell_type": "code",
   "execution_count": 1,
   "metadata": {},
   "outputs": [],
   "source": [
    "import pandas as pd\n",
    "import pyodbc\n",
    "import os"
   ]
  },
  {
   "cell_type": "code",
   "execution_count": 19,
   "metadata": {},
   "outputs": [
    {
     "name": "stdout",
     "output_type": "stream",
     "text": [
      "Table \"PNAD_TRIMESTRAL\" created successfully and data inserted from Excel file.\n"
     ]
    }
   ],
   "source": [
    "# Read Excel file into a DataFrame\n",
    "excel_file = '/home/jovyan/work/database/pnad_Trimestral.xlsx'\n",
    "df = pd.read_excel(excel_file)\n",
    "df = df.fillna(0)\n",
    "# SQL Server connection parameters\n",
    "server = 'host.docker.internal'\n",
    "database = 'llm_data'\n",
    "username = 'sa'\n",
    "password = 'Zantut123@'\n",
    "driver = '{ODBC Driver 18 for SQL Server}'\n",
    "\n",
    "# Connect to the SQL Server database\n",
    "conn_str = f'DRIVER={driver};SERVER={server};DATABASE={database};UID={username};PWD={password};TrustServerCertificate=yes'\n",
    "conn = pyodbc.connect(conn_str)\n",
    "\n",
    "# Define table name\n",
    "table_name = 'PNAD_TRIMESTRAL'\n",
    "\n",
    "type_mapping = {\n",
    "    'int64': 'BIGINT',\n",
    "    'float64': 'FLOAT',\n",
    "    'object': 'VARCHAR(MAX)',\n",
    "    'datetime64[ns]': 'DATETIME',\n",
    "    'bool': 'BOOLEAN'\n",
    "}\n",
    "\n",
    "# Função para mapear os tipos\n",
    "def map_dtype(dtype):\n",
    "    dtype_str = str(dtype)\n",
    "    return type_mapping.get(dtype_str, 'VARCHAR(MAX)')  # Default para VARCHAR(255)\n",
    "\n",
    "# Gerar a query\n",
    "create_table_query = f'''IF  EXISTS (SELECT * FROM sys.objects WHERE object_id = OBJECT_ID(N'[dbo].[PNAD_TRIMESTRAL]') AND type in (N'U'))\n",
    "DROP TABLE [dbo].[PNAD_TRIMESTRAL];\n",
    "CREATE TABLE {table_name} (\n",
    "    {', '.join([f'{column} {map_dtype(df[column].dtype)}' for column in df.columns])}\n",
    ")\n",
    "'''\n",
    "\n",
    "# Execute the create table query\n",
    "cursor = conn.cursor()\n",
    "cursor.execute(create_table_query)\n",
    "conn.commit()\n",
    "\n",
    "# Insert data from DataFrame into the table\n",
    "for index, row in df.iterrows():\n",
    "    insert_query = f'''\n",
    "    INSERT INTO {table_name} ({', '.join(df.columns)})\n",
    "    VALUES ({', '.join([f\"?\"] * len(df.columns))})\n",
    "    '''\n",
    "    cursor.execute(insert_query, tuple(row))\n",
    "    conn.commit()\n",
    "\n",
    "# Close connection\n",
    "conn.close()\n",
    "\n",
    "print(f'Table \"{table_name}\" created successfully and data inserted from Excel file.')\n"
   ]
  }
 ],
 "metadata": {
  "kernelspec": {
   "display_name": "Python [conda env:llama_index]",
   "language": "python",
   "name": "conda-env-llama_index-py"
  }
 },
 "nbformat": 4,
 "nbformat_minor": 2
}
