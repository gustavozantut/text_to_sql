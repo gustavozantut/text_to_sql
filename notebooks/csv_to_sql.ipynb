{
 "cells": [
  {
   "cell_type": "code",
   "execution_count": 5,
   "metadata": {},
   "outputs": [],
   "source": [
    "import pandas as pd\n",
    "import pyodbc\n",
    "import os"
   ]
  },
  {
   "cell_type": "code",
   "execution_count": 4,
   "metadata": {},
   "outputs": [
    {
     "name": "stdout",
     "output_type": "stream",
     "text": [
      "Table \"PNAD_TRIMESTRAL\" created successfully and data inserted from Excel file.\n"
     ]
    }
   ],
   "source": [
    "# Read Excel file into a DataFrame\n",
    "excel_file = os.getcwd() + '/github/Workana/text_to_sql/database/pnad_Trimestral.xlsx'\n",
    "df = pd.read_excel(excel_file)\n",
    "df = df.fillna(0)\n",
    "# SQL Server connection parameters\n",
    "server = 'host.docker.internal'\n",
    "database = 'llm_data'\n",
    "username = 'sa'\n",
    "password = 'Zantut123@'\n",
    "driver = '{ODBC Driver 18 for SQL Server}'\n",
    "\n",
    "# Connect to the SQL Server database\n",
    "conn_str = f'DRIVER={driver};SERVER={server};DATABASE={database};UID={username};PWD={password};TrustServerCertificate=yes'\n",
    "conn = pyodbc.connect(conn_str)\n",
    "\n",
    "# Define table name\n",
    "table_name = 'PNAD_TRIMESTRAL'\n",
    "\n",
    "# Create SQL query to create table\n",
    "create_table_query = f'''\n",
    "CREATE TABLE {table_name} (\n",
    "    {', '.join([f'{column} VARCHAR(MAX)' for column in df.columns])}\n",
    ")\n",
    "'''\n",
    "\n",
    "# Execute the create table query\n",
    "cursor = conn.cursor()\n",
    "cursor.execute(create_table_query)\n",
    "conn.commit()\n",
    "\n",
    "# Insert data from DataFrame into the table\n",
    "for index, row in df.iterrows():\n",
    "    insert_query = f'''\n",
    "    INSERT INTO {table_name} ({', '.join(df.columns)})\n",
    "    VALUES ({', '.join([f\"?\"] * len(df.columns))})\n",
    "    '''\n",
    "    cursor.execute(insert_query, tuple(row))\n",
    "    conn.commit()\n",
    "\n",
    "# Close connection\n",
    "conn.close()\n",
    "\n",
    "print(f'Table \"{table_name}\" created successfully and data inserted from Excel file.')\n"
   ]
  }
 ],
 "metadata": {
  "kernelspec": {
   "display_name": "Python [conda env:llama_index]",
   "language": "python",
   "name": "conda-env-llama_index-py"
  },
  "language_info": {
   "codemirror_mode": {
    "name": "ipython",
    "version": 3
   },
   "file_extension": ".py",
   "mimetype": "text/x-python",
   "name": "python",
   "nbconvert_exporter": "python",
   "pygments_lexer": "ipython3",
   "version": "3.11.0"
  }
 },
 "nbformat": 4,
 "nbformat_minor": 2
}
